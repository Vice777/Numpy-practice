{
 "cells": [
  {
   "cell_type": "markdown",
   "id": "125d1a4d",
   "metadata": {},
   "source": [
    "# Average height of American presidents"
   ]
  },
  {
   "cell_type": "code",
   "execution_count": 1,
   "id": "5d942c32",
   "metadata": {},
   "outputs": [],
   "source": [
    "import numpy as np\n",
    "import pandas as pd"
   ]
  },
  {
   "cell_type": "code",
   "execution_count": 13,
   "id": "66f17bcf",
   "metadata": {},
   "outputs": [],
   "source": [
    "df = pd.read_csv(\"C:/Users/vivek/jupyter_file/datasets/president_heights.csv\")"
   ]
  },
  {
   "cell_type": "code",
   "execution_count": 7,
   "id": "304c02a0",
   "metadata": {},
   "outputs": [
    {
     "name": "stdout",
     "output_type": "stream",
     "text": [
      "    order                    name  height(cm)\n",
      "0       1       George Washington         189\n",
      "1       2              John Adams         170\n",
      "2       3        Thomas Jefferson         189\n",
      "3       4           James Madison         163\n",
      "4       5            James Monroe         183\n",
      "5       6       John Quincy Adams         171\n",
      "6       7          Andrew Jackson         185\n",
      "7       8        Martin Van Buren         168\n",
      "8       9  William Henry Harrison         173\n",
      "9      10              John Tyler         183\n",
      "10     11           James K. Polk         173\n",
      "11     12          Zachary Taylor         173\n",
      "12     13        Millard Fillmore         175\n",
      "13     14         Franklin Pierce         178\n",
      "14     15          James Buchanan         183\n",
      "15     16         Abraham Lincoln         193\n",
      "16     17          Andrew Johnson         178\n",
      "17     18        Ulysses S. Grant         173\n",
      "18     19     Rutherford B. Hayes         174\n",
      "19     20       James A. Garfield         183\n",
      "20     21       Chester A. Arthur         183\n",
      "21     23       Benjamin Harrison         168\n",
      "22     25        William McKinley         170\n",
      "23     26      Theodore Roosevelt         178\n",
      "24     27     William Howard Taft         182\n",
      "25     28          Woodrow Wilson         180\n",
      "26     29       Warren G. Harding         183\n",
      "27     30         Calvin Coolidge         178\n",
      "28     31          Herbert Hoover         182\n",
      "29     32   Franklin D. Roosevelt         188\n",
      "30     33         Harry S. Truman         175\n",
      "31     34    Dwight D. Eisenhower         179\n",
      "32     35         John F. Kennedy         183\n",
      "33     36       Lyndon B. Johnson         193\n",
      "34     37           Richard Nixon         182\n",
      "35     38             Gerald Ford         183\n",
      "36     39            Jimmy Carter         177\n",
      "37     40           Ronald Reagan         185\n",
      "38     41       George H. W. Bush         188\n",
      "39     42            Bill Clinton         188\n",
      "40     43          George W. Bush         182\n",
      "41     44            Barack Obama         185\n"
     ]
    }
   ],
   "source": [
    "print(df)"
   ]
  },
  {
   "cell_type": "code",
   "execution_count": 9,
   "id": "b9f7489a",
   "metadata": {},
   "outputs": [
    {
     "name": "stdout",
     "output_type": "stream",
     "text": [
      "[189 170 189 163 183 171 185 168 173 183 173 173 175 178 183 193 178 173\n",
      " 174 183 183 168 170 178 182 180 183 178 182 188 175 179 183 193 182 183\n",
      " 177 185 188 188 182 185]\n"
     ]
    }
   ],
   "source": [
    "height = np.array(df[\"height(cm)\"])\n",
    "print(height)"
   ]
  },
  {
   "cell_type": "markdown",
   "id": "4adb833e",
   "metadata": {},
   "source": [
    ">Average summary of height\\\n",
    ">Including mean , standard deviation , minimun and maximum value from acquired data"
   ]
  },
  {
   "cell_type": "code",
   "execution_count": 21,
   "id": "7559f9f8",
   "metadata": {},
   "outputs": [
    {
     "name": "stdout",
     "output_type": "stream",
     "text": [
      "Mean height:  179.73809523809524\n",
      "Standard deviation: 6.931843442745892\n",
      "Minimum height:  163\n",
      "Maximum height:  193\n"
     ]
    }
   ],
   "source": [
    "print(\"Mean height: \", height.mean())\n",
    "print(\"Standard deviation:\", height.std())\n",
    "print(\"Minimum height: \", height.min())\n",
    "print(\"Maximum height: \", height.max())"
   ]
  },
  {
   "cell_type": "code",
   "execution_count": 22,
   "id": "610c6abd",
   "metadata": {},
   "outputs": [
    {
     "name": "stdout",
     "output_type": "stream",
     "text": [
      "0th percentile:  163.0\n",
      "25th percentile:  174.25\n",
      "50th percentile:  182.0\n",
      "75th percentile:  183.0\n",
      "100th percentile:  193.0\n",
      "Median:  182.0\n"
     ]
    }
   ],
   "source": [
    "print(\"0th percentile: \", np.percentile(height, 0))   #smallest height\n",
    "print(\"25th percentile: \", np.percentile(height, 25))\n",
    "print(\"50th percentile: \", np.percentile(height, 50))\n",
    "print(\"75th percentile: \", np.percentile(height, 75))\n",
    "print(\"100th percentile: \", np.percentile(height, 100))   #maximun height\n",
    "print(\"Median: \", np.median(height))"
   ]
  },
  {
   "cell_type": "code",
   "execution_count": 36,
   "id": "0882a23c",
   "metadata": {},
   "outputs": [
    {
     "name": "stdout",
     "output_type": "stream",
     "text": [
      "George Washington 189\n",
      "Thomas Jefferson 189\n",
      "James Monroe 183\n",
      "Andrew Jackson 185\n",
      "John Tyler 183\n",
      "James Buchanan 183\n",
      "Abraham Lincoln 193\n",
      "James A. Garfield 183\n",
      "Chester A. Arthur 183\n",
      "Warren G. Harding 183\n",
      "Franklin D. Roosevelt 188\n",
      "John F. Kennedy 183\n",
      "Lyndon B. Johnson 193\n",
      "Gerald Ford 183\n",
      "Ronald Reagan 185\n",
      "George H. W. Bush 188\n",
      "Bill Clinton 188\n",
      "Barack Obama 185\n"
     ]
    }
   ],
   "source": [
    "name = np.array(df[\"name\"])\n",
    "for i in range(len(height)) :\n",
    "    if (height[i] > 182) :\n",
    "        print(name[i] , height[i])"
   ]
  },
  {
   "cell_type": "code",
   "execution_count": 38,
   "id": "b98fcc62",
   "metadata": {},
   "outputs": [],
   "source": [
    "%matplotlib inline\n",
    "import matplotlib.pyplot as plt\n",
    "import seaborn; seaborn.set()"
   ]
  },
  {
   "cell_type": "code",
   "execution_count": 45,
   "id": "e25e414e",
   "metadata": {},
   "outputs": [
    {
     "data": {
      "text/plain": [
       "Text(0, 0.5, 'no. of president')"
      ]
     },
     "execution_count": 45,
     "metadata": {},
     "output_type": "execute_result"
    },
    {
     "data": {
      "image/png": "[encoded data removed]",
      "text/plain": [
       "<Figure size 432x288 with 1 Axes>"
      ]
     },
     "metadata": {},
     "output_type": "display_data"
    }
   ],
   "source": [
    "plt.hist(height)\n",
    "plt.title(\"height of US president\")\n",
    "plt.xlabel(\"height(cm)\")\n",
    "plt.ylabel(\"no. of president\")"
   ]
  },
  {
   "cell_type": "markdown",
   "id": "b5397527",
   "metadata": {},
   "source": [
    "# Broadcasting"
   ]
  },
  {
   "cell_type": "code",
   "execution_count": null,
   "id": "adeeaf22",
   "metadata": {},
   "outputs": [],
   "source": []
  }
 ],
 "metadata": {
  "kernelspec": {
   "display_name": "Python 3 (ipykernel)",
   "language": "python",
   "name": "python3"
  },
  "language_info": {
   "codemirror_mode": {
    "name": "ipython",
    "version": 3
   },
   "file_extension": ".py",
   "mimetype": "text/x-python",
   "name": "python",
   "nbconvert_exporter": "python",
   "pygments_lexer": "ipython3",
   "version": "3.10.2"
  }
 },
 "nbformat": 4,
 "nbformat_minor": 5
}
