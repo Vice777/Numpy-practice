{
 "cells": [
  {
   "cell_type": "markdown",
   "id": "cb0836ed",
   "metadata": {},
   "source": [
    "# Universal Function - (Ufunc)"
   ]
  },
  {
   "cell_type": "code",
   "execution_count": 2,
   "id": "7ba433cc",
   "metadata": {},
   "outputs": [],
   "source": [
    "import numpy as np\n",
    "np.random.seed(0)"
   ]
  },
  {
   "cell_type": "code",
   "execution_count": 7,
   "id": "bb573a2e",
   "metadata": {},
   "outputs": [
    {
     "name": "stdout",
     "output_type": "stream",
     "text": [
      "5.21 µs ± 173 ns per loop (mean ± std. dev. of 7 runs, 100,000 loops each)\n"
     ]
    }
   ],
   "source": [
    "#reciprocal of elements in array\n",
    "def reciprocal(arr):\n",
    "    result = np.empty(len(arr))\n",
    "    for i in range(len(arr)) :\n",
    "        result[i] = 1/(arr[i])\n",
    "    return result\n",
    "\n",
    "arr = np.random.randint(0,10,size =5)\n",
    "reciprocal(arr)\n",
    "%timeit -n 100000 reciprocal(arr)"
   ]
  },
  {
   "cell_type": "code",
   "execution_count": 11,
   "id": "3175655b",
   "metadata": {},
   "outputs": [
    {
     "name": "stdout",
     "output_type": "stream",
     "text": [
      "579 ms ± 7.03 ms per loop (mean ± std. dev. of 7 runs, 1 loop each)\n"
     ]
    }
   ],
   "source": [
    "#for large array\n",
    "big_array = np.random.randint(1, 100, size=1000000)\n",
    "%timeit reciprocal(big_array)  #time are in 0.5s which is quite large"
   ]
  },
  {
   "cell_type": "code",
   "execution_count": 17,
   "id": "f93ee9a4",
   "metadata": {},
   "outputs": [
    {
     "name": "stdout",
     "output_type": "stream",
     "text": [
      "4.2 µs ± 110 ns per loop (mean ± std. dev. of 7 runs, 100,000 loops each)\n"
     ]
    }
   ],
   "source": [
    "#performing the operation on array itself would be applied to each element\n",
    "%timeit -n 100000 new_result = (1/arr) "
   ]
  },
  {
   "cell_type": "code",
   "execution_count": 18,
   "id": "088ec660",
   "metadata": {},
   "outputs": [
    {
     "name": "stdout",
     "output_type": "stream",
     "text": [
      "4.79 ms ± 2.69 ms per loop (mean ± std. dev. of 7 runs, 1 loop each)\n"
     ]
    }
   ],
   "source": [
    "%timeit -n 1 new_big_array = (1/big_array)  #took times in ms(4ms) compare to previous iterations taking time in s(579ms)"
   ]
  },
  {
   "cell_type": "code",
   "execution_count": 19,
   "id": "2b699433",
   "metadata": {},
   "outputs": [
    {
     "data": {
      "text/plain": [
       "array([[7, 8, 2],\n",
       "       [3, 3, 8],\n",
       "       [3, 2, 5]])"
      ]
     },
     "execution_count": 19,
     "metadata": {},
     "output_type": "execute_result"
    }
   ],
   "source": [
    "#unfunc are flexible and can also be applied to ndarray\n",
    "secd = np.random.randint(10,size=(3,3))\n",
    "secd"
   ]
  },
  {
   "cell_type": "code",
   "execution_count": 22,
   "id": "a17dfd1b",
   "metadata": {},
   "outputs": [
    {
     "data": {
      "text/plain": [
       "array([[128, 256,   4],\n",
       "       [  8,   8, 256],\n",
       "       [  8,   4,  32]], dtype=int32)"
      ]
     },
     "execution_count": 22,
     "metadata": {},
     "output_type": "execute_result"
    }
   ],
   "source": [
    "2 ** secd"
   ]
  },
  {
   "cell_type": "code",
   "execution_count": 28,
   "id": "1ecad814",
   "metadata": {},
   "outputs": [
    {
     "data": {
      "text/plain": [
       "array([1, 0, 1, 8, 4, 9, 5, 7, 7, 0])"
      ]
     },
     "execution_count": 28,
     "metadata": {},
     "output_type": "execute_result"
    }
   ],
   "source": [
    "#numpy ufunc \n",
    "#arithmetic function\n",
    "x = np.random.randint(10,size = 10)\n",
    "x"
   ]
  },
  {
   "cell_type": "code",
   "execution_count": 37,
   "id": "fb1911ed",
   "metadata": {},
   "outputs": [
    {
     "name": "stdout",
     "output_type": "stream",
     "text": [
      "x+10 : [11 10 11 18 14 19 15 17 17 10]\n",
      "-x : [-1  0 -1 -8 -4 -9 -5 -7 -7  0]\n",
      "x^2 : [ 1  0  1 64 16 81 25 49 49  0]\n",
      "x%3 : [1 0 1 2 1 0 2 1 1 0]\n",
      "x//2 : [0 0 0 4 2 4 2 3 3 0]\n"
     ]
    }
   ],
   "source": [
    "print(\"x+10 :\" , np.add(x,10))\n",
    "print(\"-x :\" , -x)\n",
    "print(\"x^2 :\" , x ** 2)\n",
    "print(\"x%3 :\" , x%3)\n",
    "print(\"x//2 :\",x//2)"
   ]
  },
  {
   "cell_type": "code",
   "execution_count": 38,
   "id": "fbc7bffa",
   "metadata": {},
   "outputs": [
    {
     "data": {
      "text/plain": [
       "array([ 1,  3,  2,  5,  8, 10])"
      ]
     },
     "execution_count": 38,
     "metadata": {},
     "output_type": "execute_result"
    }
   ],
   "source": [
    "x = np.array([-1,3,-2,5,8,-10])\n",
    "np.absolute(x)"
   ]
  },
  {
   "cell_type": "code",
   "execution_count": 39,
   "id": "54ba49d7",
   "metadata": {},
   "outputs": [
    {
     "data": {
      "text/plain": [
       "array([5., 5., 2., 1.])"
      ]
     },
     "execution_count": 39,
     "metadata": {},
     "output_type": "execute_result"
    }
   ],
   "source": [
    "x = np.array([3 - 4j, 4 - 3j, 2 + 0j, 0 + 1j])\n",
    "np.absolute(x)"
   ]
  },
  {
   "cell_type": "code",
   "execution_count": 41,
   "id": "546c63f3",
   "metadata": {},
   "outputs": [
    {
     "name": "stdout",
     "output_type": "stream",
     "text": [
      "theta(Q) :  [0.         1.04719755 2.0943951  3.14159265]\n",
      "sinQ :  [0.00000000e+00 8.66025404e-01 8.66025404e-01 1.22464680e-16]\n"
     ]
    }
   ],
   "source": [
    "#Trigonometric functions\n",
    "theta = np.linspace(0,np.pi,4)\n",
    "print(\"theta(Q) : \",theta)\n",
    "print(\"sinQ : \" , np.sin(theta))"
   ]
  },
  {
   "cell_type": "code",
   "execution_count": 46,
   "id": "3cdc8402",
   "metadata": {},
   "outputs": [
    {
     "name": "stdout",
     "output_type": "stream",
     "text": [
      "sin_inv(Q) :  [ 0.          1.57079633 -1.57079633]\n"
     ]
    }
   ],
   "source": [
    "#inverse trigonometric function\n",
    "x = [0,1,-1]\n",
    "print(\"sin_inv(Q) : \", np.arcsin(x))"
   ]
  },
  {
   "cell_type": "code",
   "execution_count": 50,
   "id": "f7128d7b",
   "metadata": {},
   "outputs": [
    {
     "name": "stdout",
     "output_type": "stream",
     "text": [
      "x = [1, 2, 3, 10]\n",
      "ln(x) = [0.         0.69314718 1.09861229 2.30258509]\n",
      "log2(x) = [0.         1.         1.5849625  3.32192809]\n",
      "natural log(x) = [0.         0.30103    0.47712125 1.        ]\n",
      "e^x : [2.71828183e+00 7.38905610e+00 2.00855369e+01 2.20264658e+04]\n"
     ]
    }
   ],
   "source": [
    "#exponential and logarithmic function of array\n",
    "x=[1,2,3,10]\n",
    "print(\"x =\", x)\n",
    "print(\"ln(x) =\", np.log(x))\n",
    "print(\"log2(x) =\", np.log2(x))\n",
    "print(\"natural log(x) =\", np.log10(x))\n",
    "print(\"e^x :\" , np.exp(x))"
   ]
  },
  {
   "cell_type": "code",
   "execution_count": 51,
   "id": "3ce2190e",
   "metadata": {},
   "outputs": [
    {
     "name": "stdout",
     "output_type": "stream",
     "text": [
      "exp(x) - 1 = [0.         0.0010005  0.01005017 0.10517092]\n",
      "log(1 + x) = [0.         0.0009995  0.00995033 0.09531018]\n"
     ]
    }
   ],
   "source": [
    "#high precicision value\n",
    "x = [0, 0.001, 0.01, 0.1]\n",
    "print(\"exp(x) - 1 =\", np.expm1(x))\n",
    "print(\"log(1 + x) =\", np.log1p(x))   "
   ]
  },
  {
   "cell_type": "code",
   "execution_count": 52,
   "id": "dd1922b6",
   "metadata": {},
   "outputs": [
    {
     "data": {
      "text/plain": [
       "array([ 0.,  2.,  4.,  6.,  8., 10., 12., 14., 16., 18.])"
      ]
     },
     "execution_count": 52,
     "metadata": {},
     "output_type": "execute_result"
    }
   ],
   "source": [
    "#specify the array where the result of the calculation will be stored , rather than creating a temporary array to save memory\n",
    "x = np.arange(10)\n",
    "y = np.empty(10)\n",
    "np.multiply(2,x,out=y) #compute result direct ly in memory to save space"
   ]
  },
  {
   "cell_type": "code",
   "execution_count": 60,
   "id": "73d911d0",
   "metadata": {},
   "outputs": [
    {
     "name": "stdout",
     "output_type": "stream",
     "text": [
      "[  1.   2.   4.   8.  16.  32.  64. 128. 256. 512.]\n"
     ]
    }
   ],
   "source": [
    "y = np.zeros(10)\n",
    "np.power(2, x, out=y[::])\n",
    "print(y)"
   ]
  },
  {
   "cell_type": "markdown",
   "id": "88628dbf",
   "metadata": {},
   "source": [
    "# Aggregates"
   ]
  },
  {
   "cell_type": "code",
   "execution_count": 64,
   "id": "9bb892a9",
   "metadata": {},
   "outputs": [
    {
     "name": "stdout",
     "output_type": "stream",
     "text": [
      "x:  [1 2 3 4 5 6 7 8 9]\n",
      "Addition of x using reduce :  45\n",
      "multiplication of x using reduce :  362880\n"
     ]
    }
   ],
   "source": [
    "#reduce ->reduce an array by repeatedly applying the operation it's element until a single result remains\n",
    "x = np.arange(1,10)\n",
    "print(\"x: \",x)\n",
    "print(\"Addition of x using reduce : \" , np.add.reduce(x))\n",
    "print(\"multiplication of x using reduce : \" , np.multiply.reduce(x))"
   ]
  },
  {
   "cell_type": "code",
   "execution_count": 65,
   "id": "11e79588",
   "metadata": {},
   "outputs": [
    {
     "data": {
      "text/plain": [
       "array([ 1,  3,  6, 10, 15, 21, 28, 36, 45])"
      ]
     },
     "execution_count": 65,
     "metadata": {},
     "output_type": "execute_result"
    }
   ],
   "source": [
    "np.add.accumulate(x) #store immidiate result after each computation"
   ]
  },
  {
   "cell_type": "code",
   "execution_count": 77,
   "id": "c66d014c",
   "metadata": {},
   "outputs": [
    {
     "data": {
      "text/plain": [
       "array([[ 5,  4,  3,  2,  1],\n",
       "       [10,  8,  6,  4,  2],\n",
       "       [15, 12,  9,  6,  3],\n",
       "       [20, 16, 12,  8,  4],\n",
       "       [25, 20, 15, 10,  5]])"
      ]
     },
     "execution_count": 77,
     "metadata": {},
     "output_type": "execute_result"
    }
   ],
   "source": [
    "#outer\n",
    "x = np.arange(1, 6)\n",
    "np.multiply.outer(x,x[::-1])"
   ]
  },
  {
   "cell_type": "code",
   "execution_count": 84,
   "id": "4de01055",
   "metadata": {},
   "outputs": [
    {
     "name": "stdout",
     "output_type": "stream",
     "text": [
      "1.83 ms ± 43.4 µs per loop (mean ± std. dev. of 7 runs, 1,000 loops each)\n",
      "12.2 µs ± 48.6 ns per loop (mean ± std. dev. of 7 runs, 100,000 loops each)\n"
     ]
    }
   ],
   "source": [
    "#time-difference between normal functions and numpy aggregate function while using numpy array\n",
    "L = np.random.random(10000)\n",
    "%timeit sum(L)\n",
    "%timeit np.sum(L)"
   ]
  },
  {
   "cell_type": "code",
   "execution_count": 89,
   "id": "d65f67b4",
   "metadata": {},
   "outputs": [
    {
     "name": "stdout",
     "output_type": "stream",
     "text": [
      "30.3 µs ± 8.95 µs per loop (mean ± std. dev. of 7 runs, 10 loops each)\n"
     ]
    }
   ],
   "source": [
    "%timeit -n 10 np.min(L) , np.max(L)"
   ]
  },
  {
   "cell_type": "code",
   "execution_count": 88,
   "id": "2cbff30c",
   "metadata": {},
   "outputs": [
    {
     "name": "stdout",
     "output_type": "stream",
     "text": [
      "2.42 ms ± 65.8 µs per loop (mean ± std. dev. of 7 runs, 10 loops each)\n"
     ]
    }
   ],
   "source": [
    "%timeit -n 10 min(L) , max(L)"
   ]
  },
  {
   "cell_type": "code",
   "execution_count": 93,
   "id": "5dbb234e",
   "metadata": {},
   "outputs": [
    {
     "data": {
      "text/plain": [
       "array([[0.67746641, 0.57598592, 0.62842532],\n",
       "       [0.46888543, 0.26721863, 0.07300732],\n",
       "       [0.56155238, 0.53466223, 0.43597443]])"
      ]
     },
     "execution_count": 93,
     "metadata": {},
     "output_type": "execute_result"
    }
   ],
   "source": [
    "#multi dimensional aggregate\n",
    "L = np.random.random((3,3))\n",
    "L"
   ]
  },
  {
   "cell_type": "code",
   "execution_count": 95,
   "id": "38cde957",
   "metadata": {},
   "outputs": [
    {
     "data": {
      "text/plain": [
       "(array([1.70790422, 1.37786678, 1.13740707]), 4.223178067105673)"
      ]
     },
     "execution_count": 95,
     "metadata": {},
     "output_type": "execute_result"
    }
   ],
   "source": [
    "sum(L) , np.sum(L) #np.sum is aware of multidimensional array"
   ]
  },
  {
   "cell_type": "code",
   "execution_count": 97,
   "id": "a08c6bcf",
   "metadata": {},
   "outputs": [
    {
     "data": {
      "text/plain": [
       "(array([1.88187765, 0.80911138, 1.53218904]),\n",
       " array([1.70790422, 1.37786678, 1.13740707]))"
      ]
     },
     "execution_count": 97,
     "metadata": {},
     "output_type": "execute_result"
    }
   ],
   "source": [
    "np.sum(L,axis=1) , np.sum(L,axis=0) #axis=0 => taking rows , axis=1 => taking column"
   ]
  },
  {
   "cell_type": "code",
   "execution_count": 101,
   "id": "cbda9d1a",
   "metadata": {},
   "outputs": [],
   "source": [
    "#nansafe aggregate ignores the missing value while computation"
   ]
  },
  {
   "cell_type": "code",
   "execution_count": null,
   "id": "195aa22f",
   "metadata": {},
   "outputs": [],
   "source": []
  },
  {
   "cell_type": "code",
   "execution_count": null,
   "id": "572c73e1",
   "metadata": {},
   "outputs": [],
   "source": []
  },
  {
   "cell_type": "code",
   "execution_count": null,
   "id": "7a46fd8e",
   "metadata": {},
   "outputs": [],
   "source": []
  }
 ],
 "metadata": {
  "kernelspec": {
   "display_name": "Python 3 (ipykernel)",
   "language": "python",
   "name": "python3"
  },
  "language_info": {
   "codemirror_mode": {
    "name": "ipython",
    "version": 3
   },
   "file_extension": ".py",
   "mimetype": "text/x-python",
   "name": "python",
   "nbconvert_exporter": "python",
   "pygments_lexer": "ipython3",
   "version": "3.10.2"
  }
 },
 "nbformat": 4,
 "nbformat_minor": 5
}
